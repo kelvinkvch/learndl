{
 "cells": [
  {
   "cell_type": "code",
   "execution_count": 6,
   "metadata": {},
   "outputs": [],
   "source": [
    "import torch"
   ]
  },
  {
   "cell_type": "code",
   "execution_count": 7,
   "metadata": {},
   "outputs": [],
   "source": [
    "tc = torch.tensor([0.5, 14.0, 15.0, 28.0, 11.0, 8.0, 3.0, -4.0, 6.0, 13.0, 21.0])\n",
    "tu = torch.tensor([35.7, 55.9, 58.2, 81.9, 56.3, 48.9, 33.9, 21.8, 48.4, 60.4, 68.4])"
   ]
  },
  {
   "cell_type": "code",
   "execution_count": 8,
   "metadata": {},
   "outputs": [],
   "source": [
    "def model(tu, w, b):\n",
    "    return tu * w + b\n",
    "\n",
    "\n",
    "def lossfn(tu, tc):\n",
    "    sq_diff = (tu - tc) ** 2\n",
    "    return sq_diff.mean()\n",
    "\n",
    "\n",
    "def train_loop(n, lr, params, tu, tc):\n",
    "    for i in range(1, n + 1):\n",
    "        if params.grad is not None:\n",
    "            params.grad.zero_()\n",
    "        tp = model(tu, *params)\n",
    "        loss = lossfn(tp, tc)\n",
    "        loss.backward()\n",
    "        with torch.no_grad():\n",
    "            params -= lr * params.grad\n",
    "        if i <= 5 or i % 500 == 0:\n",
    "            print(f\"epoch {i}, Loss {float(loss):.2f}\")\n",
    "\n",
    "    return params"
   ]
  },
  {
   "cell_type": "code",
   "execution_count": 11,
   "metadata": {},
   "outputs": [
    {
     "name": "stdout",
     "output_type": "stream",
     "text": [
      "epoch 1, Loss 80.36\n",
      "epoch 2, Loss 37.57\n",
      "epoch 3, Loss 30.87\n",
      "epoch 4, Loss 29.76\n",
      "epoch 5, Loss 29.51\n",
      "epoch 500, Loss 7.86\n",
      "epoch 1000, Loss 3.83\n",
      "epoch 1500, Loss 3.09\n",
      "epoch 2000, Loss 2.96\n",
      "epoch 2500, Loss 2.93\n",
      "epoch 3000, Loss 2.93\n",
      "epoch 3500, Loss 2.93\n",
      "epoch 4000, Loss 2.93\n",
      "epoch 4500, Loss 2.93\n",
      "epoch 5000, Loss 2.93\n"
     ]
    },
    {
     "data": {
      "text/plain": [
       "tensor([  5.3671, -17.3012], requires_grad=True)"
      ]
     },
     "execution_count": 11,
     "metadata": {},
     "output_type": "execute_result"
    }
   ],
   "source": [
    "train_loop(\n",
    "    n=5000,\n",
    "    lr=0.01,\n",
    "    params=torch.tensor([1.0, 0], requires_grad=True),\n",
    "    tu=tu * 0.1,\n",
    "    tc=tc,\n",
    ")"
   ]
  }
 ],
 "metadata": {
  "kernelspec": {
   "display_name": "learndl",
   "language": "python",
   "name": "python3"
  },
  "language_info": {
   "codemirror_mode": {
    "name": "ipython",
    "version": 3
   },
   "file_extension": ".py",
   "mimetype": "text/x-python",
   "name": "python",
   "nbconvert_exporter": "python",
   "pygments_lexer": "ipython3",
   "version": "3.12.9"
  }
 },
 "nbformat": 4,
 "nbformat_minor": 2
}
