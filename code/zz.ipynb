{
 "cells": [
  {
   "cell_type": "code",
   "execution_count": 47,
   "id": "442f86c4",
   "metadata": {},
   "outputs": [],
   "source": [
    "import torch\n",
    "from torch import optim, nn\n",
    "from test_data import *"
   ]
  },
  {
   "cell_type": "code",
   "execution_count": 43,
   "id": "5a06dba1",
   "metadata": {},
   "outputs": [
    {
     "data": {
      "text/plain": [
       "['ASGD',\n",
       " 'Adadelta',\n",
       " 'Adagrad',\n",
       " 'Adam',\n",
       " 'AdamW',\n",
       " 'Adamax',\n",
       " 'LBFGS',\n",
       " 'NAdam',\n",
       " 'Optimizer',\n",
       " 'RAdam',\n",
       " 'RMSprop',\n",
       " 'Rprop',\n",
       " 'SGD',\n",
       " 'SparseAdam',\n",
       " 'lr_scheduler',\n",
       " 'swa_utils']"
      ]
     },
     "execution_count": 43,
     "metadata": {},
     "output_type": "execute_result"
    }
   ],
   "source": [
    "[name for name in dir(optim) if not name.startswith(\"_\")]"
   ]
  },
  {
   "cell_type": "code",
   "execution_count": 46,
   "id": "7244e7f8",
   "metadata": {},
   "outputs": [],
   "source": [
    "params = torch.tensor([1.0, 0], requires_grad=True)\n",
    "lr = 1e-5\n",
    "optimizer = optim.SGD([params], lr=lr)"
   ]
  },
  {
   "cell_type": "code",
   "execution_count": 48,
   "id": "c125b018",
   "metadata": {},
   "outputs": [
    {
     "data": {
      "text/plain": [
       "tensor(1763.8848, grad_fn=<MeanBackward0>)"
      ]
     },
     "execution_count": 48,
     "metadata": {},
     "output_type": "execute_result"
    }
   ],
   "source": [
    "tp = model(tu, *params)\n",
    "loss = lossfn(tp, tc)\n",
    "loss"
   ]
  },
  {
   "cell_type": "code",
   "execution_count": 49,
   "id": "cc5ee11e",
   "metadata": {},
   "outputs": [],
   "source": [
    "loss.backward()"
   ]
  },
  {
   "cell_type": "code",
   "execution_count": 73,
   "id": "ed842fe5",
   "metadata": {},
   "outputs": [
    {
     "data": {
      "text/plain": [
       "tensor([-0.0842, -0.0198], requires_grad=True)"
      ]
     },
     "execution_count": 73,
     "metadata": {},
     "output_type": "execute_result"
    }
   ],
   "source": [
    "optimizer.step()\n",
    "params"
   ]
  },
  {
   "cell_type": "code",
   "execution_count": 74,
   "id": "05338ec0",
   "metadata": {},
   "outputs": [],
   "source": [
    "params = torch.tensor([1.0, 0], requires_grad=True)\n",
    "lr = 1e-2\n",
    "optimizer = optim.SGD([params], lr=lr)"
   ]
  },
  {
   "cell_type": "code",
   "execution_count": 75,
   "id": "160756fa",
   "metadata": {},
   "outputs": [],
   "source": [
    "tp = model(tun, *params)\n",
    "loss = lossfn(tp, tc)"
   ]
  },
  {
   "cell_type": "code",
   "execution_count": null,
   "id": "9a9de1e7",
   "metadata": {},
   "outputs": [
    {
     "data": {
      "text/plain": [
       "SGD (\n",
       "Parameter Group 0\n",
       "    dampening: 0\n",
       "    differentiable: False\n",
       "    foreach: None\n",
       "    fused: None\n",
       "    lr: 0.01\n",
       "    maximize: False\n",
       "    momentum: 0\n",
       "    nesterov: False\n",
       "    weight_decay: 0\n",
       ")"
      ]
     },
     "execution_count": 76,
     "metadata": {},
     "output_type": "execute_result"
    }
   ],
   "source": [
    "optimizer"
   ]
  },
  {
   "cell_type": "code",
   "execution_count": 77,
   "id": "fccb38a9",
   "metadata": {},
   "outputs": [
    {
     "data": {
      "text/plain": [
       "SGD (\n",
       "Parameter Group 0\n",
       "    dampening: 0\n",
       "    differentiable: False\n",
       "    foreach: None\n",
       "    fused: None\n",
       "    lr: 0.01\n",
       "    maximize: False\n",
       "    momentum: 0\n",
       "    nesterov: False\n",
       "    weight_decay: 0\n",
       ")"
      ]
     },
     "execution_count": 77,
     "metadata": {},
     "output_type": "execute_result"
    }
   ],
   "source": [
    "optimizer.zero_grad()\n",
    "optimizer"
   ]
  },
  {
   "cell_type": "code",
   "execution_count": 78,
   "id": "b3ee3608",
   "metadata": {},
   "outputs": [
    {
     "data": {
      "text/plain": [
       "SGD (\n",
       "Parameter Group 0\n",
       "    dampening: 0\n",
       "    differentiable: False\n",
       "    foreach: None\n",
       "    fused: None\n",
       "    lr: 0.01\n",
       "    maximize: False\n",
       "    momentum: 0\n",
       "    nesterov: False\n",
       "    weight_decay: 0\n",
       ")"
      ]
     },
     "execution_count": 78,
     "metadata": {},
     "output_type": "execute_result"
    }
   ],
   "source": [
    "loss.backward()\n",
    "optimizer"
   ]
  },
  {
   "cell_type": "code",
   "execution_count": 80,
   "id": "e6a2a105",
   "metadata": {},
   "outputs": [
    {
     "name": "stdout",
     "output_type": "stream",
     "text": [
      "SGD (\n",
      "Parameter Group 0\n",
      "    dampening: 0\n",
      "    differentiable: False\n",
      "    foreach: None\n",
      "    fused: None\n",
      "    lr: 0.01\n",
      "    maximize: False\n",
      "    momentum: 0\n",
      "    nesterov: False\n",
      "    weight_decay: 0\n",
      ")\n",
      "tensor([1.7761, 0.1064], requires_grad=True)\n"
     ]
    }
   ],
   "source": [
    "optimizer.step()\n",
    "print(optimizer)\n",
    "print(params)"
   ]
  },
  {
   "cell_type": "code",
   "execution_count": 82,
   "id": "1632a64c",
   "metadata": {},
   "outputs": [
    {
     "name": "stdout",
     "output_type": "stream",
     "text": [
      "Epoch 1, Loss 80.364342\n",
      "Epoch 2, Loss 37.574913\n",
      "Epoch 3, Loss 30.871077\n",
      "Epoch 4, Loss 29.756193\n",
      "Epoch 5, Loss 29.507153\n",
      "Epoch 500, Loss 7.860120\n",
      "Epoch 1000, Loss 3.828538\n",
      "Epoch 1500, Loss 3.092191\n",
      "Epoch 2000, Loss 2.957698\n",
      "Epoch 2500, Loss 2.933134\n",
      "Epoch 3000, Loss 2.928648\n",
      "Epoch 3500, Loss 2.927830\n",
      "Epoch 4000, Loss 2.927679\n",
      "Epoch 4500, Loss 2.927652\n",
      "Epoch 5000, Loss 2.927647\n"
     ]
    },
    {
     "data": {
      "text/plain": [
       "tensor([  5.3671, -17.3012], requires_grad=True)"
      ]
     },
     "execution_count": 82,
     "metadata": {},
     "output_type": "execute_result"
    }
   ],
   "source": [
    "def train(n, optimizer, params, tu, tc):\n",
    "    for e in range(1, n + 1):\n",
    "        tp = model(tu, *params)\n",
    "        loss = lossfn(tp, tc)\n",
    "\n",
    "        optimizer.zero_grad()\n",
    "        loss.backward()\n",
    "        optimizer.step()\n",
    "\n",
    "        if e < 6 or e % 500 == 0:\n",
    "            print(f\"Epoch {e}, Loss {loss.item():.6f}\")\n",
    "\n",
    "    return params\n",
    "\n",
    "\n",
    "params = torch.tensor([1.0, 0], requires_grad=True)\n",
    "lr = 1e-2\n",
    "optimizer = optim.SGD([params], lr=lr)\n",
    "tun = tu * 0.1\n",
    "train(n=5000, optimizer=optimizer, params=params, tu=tun, tc=tc)"
   ]
  },
  {
   "cell_type": "code",
   "execution_count": 83,
   "id": "4a2e66f4",
   "metadata": {},
   "outputs": [],
   "source": [
    "params = torch.tensor([1.0, 0], requires_grad=True)\n",
    "lr = 1e-1\n",
    "optimizer = optim.Adam([params], lr=lr)"
   ]
  },
  {
   "cell_type": "code",
   "execution_count": 84,
   "id": "7cb07b39",
   "metadata": {},
   "outputs": [
    {
     "name": "stdout",
     "output_type": "stream",
     "text": [
      "Epoch 1, Loss 1763.884766\n",
      "Epoch 2, Loss 1334.349121\n",
      "Epoch 3, Loss 967.816040\n",
      "Epoch 4, Loss 664.756348\n",
      "Epoch 5, Loss 424.630066\n",
      "Epoch 500, Loss 7.612900\n",
      "Epoch 1000, Loss 3.086698\n",
      "Epoch 1500, Loss 2.928578\n",
      "Epoch 2000, Loss 2.927646\n"
     ]
    },
    {
     "data": {
      "text/plain": [
       "tensor([  0.5367, -17.3021], requires_grad=True)"
      ]
     },
     "execution_count": 84,
     "metadata": {},
     "output_type": "execute_result"
    }
   ],
   "source": [
    "train(n=2000, optimizer=optimizer, params=params, tu=tu, tc=tc)"
   ]
  }
 ],
 "metadata": {
  "kernelspec": {
   "display_name": "learndl",
   "language": "python",
   "name": "python3"
  },
  "language_info": {
   "codemirror_mode": {
    "name": "ipython",
    "version": 3
   },
   "file_extension": ".py",
   "mimetype": "text/x-python",
   "name": "python",
   "nbconvert_exporter": "python",
   "pygments_lexer": "ipython3",
   "version": "3.12.9"
  }
 },
 "nbformat": 4,
 "nbformat_minor": 5
}
