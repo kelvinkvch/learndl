{
 "cells": [
  {
   "cell_type": "code",
   "execution_count": 1,
   "metadata": {},
   "outputs": [
    {
     "name": "stdout",
     "output_type": "stream",
     "text": [
      "tensor([ 9, 10,  1,  4,  7,  0,  5,  8,  2])\n",
      "tensor([3, 6])\n"
     ]
    }
   ],
   "source": [
    "import torch\n",
    "from torch import nn, optim\n",
    "from test_data import *"
   ]
  },
  {
   "cell_type": "code",
   "execution_count": 2,
   "metadata": {},
   "outputs": [
    {
     "data": {
      "text/plain": [
       "torch.Size([11, 1])"
      ]
     },
     "execution_count": 2,
     "metadata": {},
     "output_type": "execute_result"
    }
   ],
   "source": [
    "tc = tc.unsqueeze(1)\n",
    "tu = tu.unsqueeze(1)\n",
    "tu.shape"
   ]
  },
  {
   "cell_type": "code",
   "execution_count": 3,
   "metadata": {},
   "outputs": [],
   "source": [
    "def train_loop(n, optimizer, model, lossfn, traintu, valtu, traintc, valtc):\n",
    "    for e in range(1, n + 1):\n",
    "        traintp = model(traintu)\n",
    "        losstrain = lossfn(traintp, traintc)\n",
    "\n",
    "        valtp = model(valtu)\n",
    "        lossval = lossfn(valtp, valtc)\n",
    "\n",
    "        optimizer.zero_grad()\n",
    "        losstrain.backward()\n",
    "        optimizer.step()\n",
    "\n",
    "        if e < 6 or e % 1000 == 0:\n",
    "            print(\n",
    "                f\"Epoch {e}, training loss {losstrain.item():.6f}\",\n",
    "                f\"     validation loss {lossval.item():.4f}\",\n",
    "            )"
   ]
  },
  {
   "cell_type": "code",
   "execution_count": 4,
   "metadata": {},
   "outputs": [],
   "source": [
    "traintu = tu[train_idx].unsqueeze(1)\n",
    "valtu = tu[val_idx].unsqueeze(1)\n",
    "traintc = tc[train_idx].unsqueeze(1)\n",
    "valtc = tc[val_idx].unsqueeze(1)\n",
    "\n",
    "\n",
    "traintun = traintu * 0.1\n",
    "traintcn = traintc * 0.1\n",
    "\n",
    "valtun = valtu * 0.1\n",
    "valtcn = valtc * 0.1"
   ]
  },
  {
   "cell_type": "code",
   "execution_count": 5,
   "metadata": {},
   "outputs": [
    {
     "data": {
      "text/plain": [
       "Sequential(\n",
       "  (hidden_linear): Linear(in_features=1, out_features=8, bias=True)\n",
       "  (hidden_activation): Tanh()\n",
       "  (output_linear): Linear(in_features=8, out_features=1, bias=True)\n",
       ")"
      ]
     },
     "execution_count": 5,
     "metadata": {},
     "output_type": "execute_result"
    }
   ],
   "source": [
    "from collections import OrderedDict\n",
    "\n",
    "sql_model = nn.Sequential(\n",
    "    OrderedDict(\n",
    "        [\n",
    "            (\"hidden_linear\", nn.Linear(1, 8)),\n",
    "            (\"hidden_activation\", nn.Tanh()),\n",
    "            (\"output_linear\", nn.Linear(8, 1)),\n",
    "        ]\n",
    "    )\n",
    ")\n",
    "sql_model"
   ]
  },
  {
   "cell_type": "code",
   "execution_count": 6,
   "metadata": {},
   "outputs": [
    {
     "name": "stdout",
     "output_type": "stream",
     "text": [
      "Epoch 1, training loss 138.116394      validation loss 391.5503\n",
      "Epoch 2, training loss 135.404160      validation loss 387.0549\n",
      "Epoch 3, training loss 132.758026      validation loss 382.6482\n",
      "Epoch 4, training loss 130.178741      validation loss 378.3327\n",
      "Epoch 5, training loss 127.666626      validation loss 374.1099\n",
      "Epoch 1000, training loss 3.819711      validation loss 45.0310\n",
      "Epoch 2000, training loss 2.467637      validation loss 28.1322\n",
      "Epoch 3000, training loss 1.935727      validation loss 20.2205\n",
      "Epoch 4000, training loss 2.365586      validation loss 13.4868\n",
      "Epoch 5000, training loss 1.957776      validation loss 12.5652\n"
     ]
    }
   ],
   "source": [
    "optimizer = optim.SGD(sql_model.parameters(), lr=1e-3)\n",
    "\n",
    "train_loop(\n",
    "    n=5000,\n",
    "    optimizer=optimizer,\n",
    "    model=sql_model,\n",
    "    lossfn=nn.MSELoss(),\n",
    "    traintu=traintun,\n",
    "    valtu=valtun,\n",
    "    traintc=traintc,\n",
    "    valtc=valtc,\n",
    ")"
   ]
  },
  {
   "cell_type": "code",
   "execution_count": 8,
   "metadata": {},
   "outputs": [
    {
     "name": "stdout",
     "output_type": "stream",
     "text": [
      "answer tensor([[[28.]],\n",
      "\n",
      "        [[ 3.]]])\n"
     ]
    }
   ],
   "source": [
    "print(\"answer\", valtc)"
   ]
  },
  {
   "cell_type": "code",
   "execution_count": 9,
   "metadata": {},
   "outputs": [
    {
     "name": "stdout",
     "output_type": "stream",
     "text": [
      "hidden tensor([[ -0.0328],\n",
      "        [-17.9853],\n",
      "        [-12.3858],\n",
      "        [  8.0885],\n",
      "        [  0.0996],\n",
      "        [ 14.5978],\n",
      "        [ -0.1075],\n",
      "        [ 18.1438]])\n"
     ]
    }
   ],
   "source": [
    "print(\"hidden\", sql_model.hidden_linear.weight.grad)"
   ]
  },
  {
   "cell_type": "code",
   "execution_count": 10,
   "metadata": {},
   "outputs": [],
   "source": [
    "from matplotlib import pyplot as plt"
   ]
  },
  {
   "cell_type": "code",
   "execution_count": 11,
   "metadata": {},
   "outputs": [
    {
     "data": {
      "text/plain": [
       "<matplotlib.legend.Legend at 0x7f64013116a0>"
      ]
     },
     "execution_count": 11,
     "metadata": {},
     "output_type": "execute_result"
    },
    {
     "data": {
      "image/png": "[encoded data removed]",
      "text/plain": [
       "<Figure size 640x480 with 1 Axes>"
      ]
     },
     "metadata": {},
     "output_type": "display_data"
    }
   ],
   "source": [
    "trange = torch.arange(20.0, 90.0).unsqueeze(1)\n",
    "fig = plt.figure()\n",
    "plt.xlabel(\"F\")\n",
    "plt.ylabel(\"C\")\n",
    "plt.plot(tu, tc, \"o\", label=\"input\")\n",
    "plt.plot(trange, sql_model(0.1 * trange).detach(), \"c-\")\n",
    "plt.plot(tu, sql_model(0.1 * tu).detach(), \"kx\", label=\"output\")\n",
    "plt.legend(loc=\"best\")"
   ]
  }
 ],
 "metadata": {
  "kernelspec": {
   "display_name": "learndl",
   "language": "python",
   "name": "python3"
  },
  "language_info": {
   "codemirror_mode": {
    "name": "ipython",
    "version": 3
   },
   "file_extension": ".py",
   "mimetype": "text/x-python",
   "name": "python",
   "nbconvert_exporter": "python",
   "pygments_lexer": "ipython3",
   "version": "3.12.9"
  }
 },
 "nbformat": 4,
 "nbformat_minor": 2
}
